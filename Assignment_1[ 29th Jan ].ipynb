{
 "cells": [
  {
   "cell_type": "code",
   "execution_count": 9,
   "id": "dd6583b9-e7cf-4a1b-83ba-89ae00b03a17",
   "metadata": {},
   "outputs": [],
   "source": [
    "# Who developed python?\n",
    "# -> Guido van Rossum"
   ]
  },
  {
   "cell_type": "code",
   "execution_count": 10,
   "id": "b0f7c528-431c-4890-936c-8a4cff25a99e",
   "metadata": {},
   "outputs": [],
   "source": [
    "# Which type of prgramming python support?\n",
    "# -> Object-oriented programming and structured "
   ]
  },
  {
   "cell_type": "code",
   "execution_count": 11,
   "id": "63307e3d-aef5-4640-b47e-08b056c76e3d",
   "metadata": {},
   "outputs": [],
   "source": [
    "# Is Python case sensitive?\n",
    "# -> Yes"
   ]
  },
  {
   "cell_type": "code",
   "execution_count": 12,
   "id": "18a0a21f-ef28-440d-9ad8-2bc63507f8ee",
   "metadata": {},
   "outputs": [],
   "source": [
    "# What is correc extension of python file?\n",
    "# -> .py"
   ]
  },
  {
   "cell_type": "code",
   "execution_count": 13,
   "id": "e527ba96-e458-4d43-8e4c-4d334b6ce70c",
   "metadata": {},
   "outputs": [],
   "source": [
    "# Is Python code compiled or interpreted?\n",
    "# -> Interpreted language"
   ]
  },
  {
   "cell_type": "code",
   "execution_count": 24,
   "id": "375fee77-8ef6-47b8-a516-dcef6b0b98f7",
   "metadata": {},
   "outputs": [],
   "source": [
    "# Name of few blocks of code used to define in Python language?\n",
    "# -> Indentation is used to define a block of code in python"
   ]
  },
  {
   "cell_type": "code",
   "execution_count": 14,
   "id": "6d285d72-f5a3-41cf-a4b4-061c6e239df0",
   "metadata": {},
   "outputs": [],
   "source": [
    "# State a character used t give single line comments?\n",
    "# -> # "
   ]
  },
  {
   "cell_type": "code",
   "execution_count": 15,
   "id": "71b04b72-a26f-45cf-984d-a173b9762b2e",
   "metadata": {},
   "outputs": [],
   "source": [
    "# Functions to identify current version of Python?\n",
    "# ->  python_version() function"
   ]
  },
  {
   "cell_type": "code",
   "execution_count": 16,
   "id": "142e521f-18a2-468b-b213-0bdae55c61cf",
   "metadata": {},
   "outputs": [],
   "source": [
    "# Python supports the creation of anonymous functions at runtime, using construct called lambda "
   ]
  },
  {
   "cell_type": "code",
   "execution_count": 17,
   "id": "918547b0-19a2-416b-bb25-776e176d06ba",
   "metadata": {},
   "outputs": [],
   "source": [
    "# What does pip stand for?\n",
    "# -> Preferred Installer Program"
   ]
  },
  {
   "cell_type": "code",
   "execution_count": 18,
   "id": "7383b254-26e6-4144-9b97-9b773660e560",
   "metadata": {},
   "outputs": [],
   "source": [
    "# Mention few built-in functions in python?\n",
    "# -> list(),tuple(),str(),set(),range(),int(),float(),etc."
   ]
  },
  {
   "cell_type": "code",
   "execution_count": 19,
   "id": "66c87b6b-f7bf-49e2-b0d5-6a099ad759e9",
   "metadata": {},
   "outputs": [],
   "source": [
    "# Maximum possible length of identifier?\n",
    "# -> 79 characters"
   ]
  },
  {
   "cell_type": "code",
   "execution_count": 20,
   "id": "e7320f59-92ce-4fac-82b6-489d3bfd808c",
   "metadata": {},
   "outputs": [],
   "source": [
    "# Benefits of using python?\n",
    "# -> Data science.\n",
    "# -> Scientific and mathematical computing.\n",
    "# -> Web development.\n",
    "# -> Computer graphics.\n",
    "# -> Basic game development."
   ]
  },
  {
   "cell_type": "code",
   "execution_count": 21,
   "id": "d9e5e7b3-6436-4ace-8c61-750e994a4f47",
   "metadata": {},
   "outputs": [],
   "source": [
    "# Memory management in python?\n",
    "# -> the management of a private heap. A private heap is a portion of \n",
    "#    memory that is exclusive to the Python process."
   ]
  },
  {
   "cell_type": "code",
   "execution_count": 22,
   "id": "403fb719-3e72-4f91-b36d-1de5a52bc406",
   "metadata": {},
   "outputs": [],
   "source": [
    "# How to install python on windows and set path variables?\n",
    "# -> Download the binaries\n",
    "# -> Run the Executable installer\n",
    "# -> Add Python to PATH environmental variables"
   ]
  },
  {
   "cell_type": "code",
   "execution_count": 23,
   "id": "fc89e61b-c4d1-4c47-9cc5-62eb9d51975a",
   "metadata": {},
   "outputs": [],
   "source": [
    "# Is identation required in python?\n",
    "# -> Yes"
   ]
  }
 ],
 "metadata": {
  "kernelspec": {
   "display_name": "Python 3 (ipykernel)",
   "language": "python",
   "name": "python3"
  },
  "language_info": {
   "codemirror_mode": {
    "name": "ipython",
    "version": 3
   },
   "file_extension": ".py",
   "mimetype": "text/x-python",
   "name": "python",
   "nbconvert_exporter": "python",
   "pygments_lexer": "ipython3",
   "version": "3.10.8"
  }
 },
 "nbformat": 4,
 "nbformat_minor": 5
}
